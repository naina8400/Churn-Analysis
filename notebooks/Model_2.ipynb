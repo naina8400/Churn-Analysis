{
 "cells": [
  {
   "cell_type": "code",
   "execution_count": 1,
   "id": "865c99fb",
   "metadata": {},
   "outputs": [],
   "source": [
    "import pandas as pd\n",
    "import numpy as np\n",
    "from sklearn.model_selection import train_test_split"
   ]
  },
  {
   "cell_type": "code",
   "execution_count": 2,
   "id": "1e62e99e",
   "metadata": {},
   "outputs": [
    {
     "data": {
      "text/html": [
       "<div>\n",
       "<style scoped>\n",
       "    .dataframe tbody tr th:only-of-type {\n",
       "        vertical-align: middle;\n",
       "    }\n",
       "\n",
       "    .dataframe tbody tr th {\n",
       "        vertical-align: top;\n",
       "    }\n",
       "\n",
       "    .dataframe thead th {\n",
       "        text-align: right;\n",
       "    }\n",
       "</style>\n",
       "<table border=\"1\" class=\"dataframe\">\n",
       "  <thead>\n",
       "    <tr style=\"text-align: right;\">\n",
       "      <th></th>\n",
       "      <th>Unnamed: 0</th>\n",
       "      <th>gender</th>\n",
       "      <th>SeniorCitizen</th>\n",
       "      <th>Partner</th>\n",
       "      <th>Dependents</th>\n",
       "      <th>PhoneService</th>\n",
       "      <th>PaperlessBilling</th>\n",
       "      <th>Churn</th>\n",
       "      <th>MultipleLines_No</th>\n",
       "      <th>MultipleLines_No phone service</th>\n",
       "      <th>...</th>\n",
       "      <th>Number_AdditionalServices_3</th>\n",
       "      <th>Number_AdditionalServices_4</th>\n",
       "      <th>Number_AdditionalServices_5</th>\n",
       "      <th>Number_AdditionalServices_6</th>\n",
       "      <th>OnlineBackup_No</th>\n",
       "      <th>OnlineBackup_No internet service</th>\n",
       "      <th>OnlineBackup_Yes</th>\n",
       "      <th>tenure</th>\n",
       "      <th>MonthlyCharges</th>\n",
       "      <th>TotalCharges</th>\n",
       "    </tr>\n",
       "  </thead>\n",
       "  <tbody>\n",
       "    <tr>\n",
       "      <th>0</th>\n",
       "      <td>0</td>\n",
       "      <td>1</td>\n",
       "      <td>0</td>\n",
       "      <td>1</td>\n",
       "      <td>0</td>\n",
       "      <td>0</td>\n",
       "      <td>1</td>\n",
       "      <td>0</td>\n",
       "      <td>0</td>\n",
       "      <td>1</td>\n",
       "      <td>...</td>\n",
       "      <td>0</td>\n",
       "      <td>0</td>\n",
       "      <td>0</td>\n",
       "      <td>0</td>\n",
       "      <td>0</td>\n",
       "      <td>0</td>\n",
       "      <td>1</td>\n",
       "      <td>0.000000</td>\n",
       "      <td>0.115423</td>\n",
       "      <td>0.001275</td>\n",
       "    </tr>\n",
       "    <tr>\n",
       "      <th>1</th>\n",
       "      <td>1</td>\n",
       "      <td>0</td>\n",
       "      <td>0</td>\n",
       "      <td>0</td>\n",
       "      <td>0</td>\n",
       "      <td>1</td>\n",
       "      <td>0</td>\n",
       "      <td>0</td>\n",
       "      <td>1</td>\n",
       "      <td>0</td>\n",
       "      <td>...</td>\n",
       "      <td>0</td>\n",
       "      <td>0</td>\n",
       "      <td>0</td>\n",
       "      <td>0</td>\n",
       "      <td>1</td>\n",
       "      <td>0</td>\n",
       "      <td>0</td>\n",
       "      <td>0.464789</td>\n",
       "      <td>0.385075</td>\n",
       "      <td>0.215867</td>\n",
       "    </tr>\n",
       "    <tr>\n",
       "      <th>2</th>\n",
       "      <td>2</td>\n",
       "      <td>0</td>\n",
       "      <td>0</td>\n",
       "      <td>0</td>\n",
       "      <td>0</td>\n",
       "      <td>1</td>\n",
       "      <td>1</td>\n",
       "      <td>1</td>\n",
       "      <td>1</td>\n",
       "      <td>0</td>\n",
       "      <td>...</td>\n",
       "      <td>0</td>\n",
       "      <td>0</td>\n",
       "      <td>0</td>\n",
       "      <td>0</td>\n",
       "      <td>0</td>\n",
       "      <td>0</td>\n",
       "      <td>1</td>\n",
       "      <td>0.014085</td>\n",
       "      <td>0.354229</td>\n",
       "      <td>0.010310</td>\n",
       "    </tr>\n",
       "    <tr>\n",
       "      <th>3</th>\n",
       "      <td>3</td>\n",
       "      <td>0</td>\n",
       "      <td>0</td>\n",
       "      <td>0</td>\n",
       "      <td>0</td>\n",
       "      <td>0</td>\n",
       "      <td>0</td>\n",
       "      <td>0</td>\n",
       "      <td>0</td>\n",
       "      <td>1</td>\n",
       "      <td>...</td>\n",
       "      <td>1</td>\n",
       "      <td>0</td>\n",
       "      <td>0</td>\n",
       "      <td>0</td>\n",
       "      <td>1</td>\n",
       "      <td>0</td>\n",
       "      <td>0</td>\n",
       "      <td>0.619718</td>\n",
       "      <td>0.239303</td>\n",
       "      <td>0.210241</td>\n",
       "    </tr>\n",
       "    <tr>\n",
       "      <th>4</th>\n",
       "      <td>4</td>\n",
       "      <td>1</td>\n",
       "      <td>0</td>\n",
       "      <td>0</td>\n",
       "      <td>0</td>\n",
       "      <td>1</td>\n",
       "      <td>1</td>\n",
       "      <td>1</td>\n",
       "      <td>1</td>\n",
       "      <td>0</td>\n",
       "      <td>...</td>\n",
       "      <td>0</td>\n",
       "      <td>0</td>\n",
       "      <td>0</td>\n",
       "      <td>0</td>\n",
       "      <td>1</td>\n",
       "      <td>0</td>\n",
       "      <td>0</td>\n",
       "      <td>0.014085</td>\n",
       "      <td>0.521891</td>\n",
       "      <td>0.015330</td>\n",
       "    </tr>\n",
       "  </tbody>\n",
       "</table>\n",
       "<p>5 rows × 49 columns</p>\n",
       "</div>"
      ],
      "text/plain": [
       "   Unnamed: 0  gender  SeniorCitizen  Partner  Dependents  PhoneService  \\\n",
       "0           0       1              0        1           0             0   \n",
       "1           1       0              0        0           0             1   \n",
       "2           2       0              0        0           0             1   \n",
       "3           3       0              0        0           0             0   \n",
       "4           4       1              0        0           0             1   \n",
       "\n",
       "   PaperlessBilling  Churn  MultipleLines_No  MultipleLines_No phone service  \\\n",
       "0                 1      0                 0                               1   \n",
       "1                 0      0                 1                               0   \n",
       "2                 1      1                 1                               0   \n",
       "3                 0      0                 0                               1   \n",
       "4                 1      1                 1                               0   \n",
       "\n",
       "   ...  Number_AdditionalServices_3  Number_AdditionalServices_4  \\\n",
       "0  ...                            0                            0   \n",
       "1  ...                            0                            0   \n",
       "2  ...                            0                            0   \n",
       "3  ...                            1                            0   \n",
       "4  ...                            0                            0   \n",
       "\n",
       "   Number_AdditionalServices_5  Number_AdditionalServices_6  OnlineBackup_No  \\\n",
       "0                            0                            0                0   \n",
       "1                            0                            0                1   \n",
       "2                            0                            0                0   \n",
       "3                            0                            0                1   \n",
       "4                            0                            0                1   \n",
       "\n",
       "   OnlineBackup_No internet service  OnlineBackup_Yes    tenure  \\\n",
       "0                                 0                 1  0.000000   \n",
       "1                                 0                 0  0.464789   \n",
       "2                                 0                 1  0.014085   \n",
       "3                                 0                 0  0.619718   \n",
       "4                                 0                 0  0.014085   \n",
       "\n",
       "   MonthlyCharges  TotalCharges  \n",
       "0        0.115423      0.001275  \n",
       "1        0.385075      0.215867  \n",
       "2        0.354229      0.010310  \n",
       "3        0.239303      0.210241  \n",
       "4        0.521891      0.015330  \n",
       "\n",
       "[5 rows x 49 columns]"
      ]
     },
     "execution_count": 2,
     "metadata": {},
     "output_type": "execute_result"
    }
   ],
   "source": [
    "df=pd.read_csv(\"tel_churn.csv\")\n",
    "df.head()"
   ]
  },
  {
   "cell_type": "code",
   "execution_count": 3,
   "id": "e42b34eb",
   "metadata": {},
   "outputs": [],
   "source": [
    "df=df.drop('Unnamed: 0',axis=1)"
   ]
  },
  {
   "cell_type": "code",
   "execution_count": 4,
   "id": "4343f9f6",
   "metadata": {},
   "outputs": [
    {
     "data": {
      "text/plain": [
       "(7032, 47)"
      ]
     },
     "execution_count": 4,
     "metadata": {},
     "output_type": "execute_result"
    }
   ],
   "source": [
    "x=df.drop('Churn',axis=1)\n",
    "x.shape"
   ]
  },
  {
   "cell_type": "code",
   "execution_count": 5,
   "id": "a6936742",
   "metadata": {},
   "outputs": [
    {
     "data": {
      "text/plain": [
       "(7032,)"
      ]
     },
     "execution_count": 5,
     "metadata": {},
     "output_type": "execute_result"
    }
   ],
   "source": [
    "y=df['Churn']\n",
    "y.shape"
   ]
  },
  {
   "cell_type": "code",
   "execution_count": 6,
   "id": "be58c395",
   "metadata": {},
   "outputs": [],
   "source": [
    "from imblearn.under_sampling import NearMiss\n",
    "from imblearn.combine import SMOTEENN\n",
    "from keras import regularizers"
   ]
  },
  {
   "cell_type": "code",
   "execution_count": 7,
   "id": "9f2021e2",
   "metadata": {},
   "outputs": [],
   "source": [
    "xr_train,xr_test,yr_train,yr_test=train_test_split(x, y,test_size=0.2, random_state=42)"
   ]
  },
  {
   "cell_type": "code",
   "execution_count": 9,
   "id": "c1439931",
   "metadata": {},
   "outputs": [],
   "source": [
    "from keras.models import Sequential, load_model\n",
    "from keras import layers\n",
    "from keras.layers.core import Dropout\n",
    "from keras.callbacks import ModelCheckpoint"
   ]
  },
  {
   "cell_type": "code",
   "execution_count": 10,
   "id": "4a3353da",
   "metadata": {},
   "outputs": [],
   "source": [
    "import matplotlib.pyplot as plt\n",
    "%matplotlib inline"
   ]
  },
  {
   "cell_type": "code",
   "execution_count": 11,
   "id": "b03e9adf",
   "metadata": {},
   "outputs": [
    {
     "name": "stdout",
     "output_type": "stream",
     "text": [
      "Model: \"sequential\"\n",
      "_________________________________________________________________\n",
      " Layer (type)                Output Shape              Param #   \n",
      "=================================================================\n",
      " dense (Dense)               (None, 512)               24576     \n",
      "                                                                 \n",
      " dropout (Dropout)           (None, 512)               0         \n",
      "                                                                 \n",
      " dense_1 (Dense)             (None, 512)               262656    \n",
      "                                                                 \n",
      " dropout_1 (Dropout)         (None, 512)               0         \n",
      "                                                                 \n",
      " dense_2 (Dense)             (None, 1)                 513       \n",
      "                                                                 \n",
      "=================================================================\n",
      "Total params: 287,745\n",
      "Trainable params: 287,745\n",
      "Non-trainable params: 0\n",
      "_________________________________________________________________\n"
     ]
    }
   ],
   "source": [
    "nn = Sequential()\n",
    "Input_Shape = xr_train.shape[1]\n",
    "nn.add(layers.Dense(512, input_shape=(Input_Shape,), activation='relu'))\n",
    "nn.add(Dropout(0.2))\n",
    "nn.add(layers.Dense(512, activation='relu'))\n",
    "nn.add(Dropout(0.2))\n",
    "nn.add(layers.Dense(1, activation='sigmoid'))\n",
    "nn.compile(loss='binary_crossentropy', optimizer='adam', metrics=['accuracy'])\n",
    "nn.summary()\n",
    "\n",
    "mc = ModelCheckpoint('best_model.h5', monitor='val_accuracy', mode='max', verbose=0, save_best_only=True)\n",
    "\n",
    "fit_nn = nn.fit(xr_train, yr_train, \n",
    "                epochs=100, \n",
    "                verbose=False, \n",
    "                validation_data=(xr_test, yr_test),\n",
    "               batch_size=30, callbacks=[mc])\n",
    "\n",
    "best_nn = load_model('best_model.h5')"
   ]
  },
  {
   "cell_type": "code",
   "execution_count": 12,
   "id": "a2a3793a",
   "metadata": {},
   "outputs": [
    {
     "name": "stdout",
     "output_type": "stream",
     "text": [
      "Best Model Training Score: 0.3759\n",
      "Best Model Training Accuracy: 0.8208\n",
      "Best Model Testing Score: 0.4489\n",
      "Best Model Testing Accuracy: 0.7946\n",
      "----------------------------------------\n",
      "Final Model Training Score: 0.1019\n",
      "Final Model Training Accuracy: 0.9547\n",
      "Final Model Testing Score: 1.4200\n",
      "Final Model Testing Accuracy: 0.7356\n"
     ]
    }
   ],
   "source": [
    "#Plot model evaluation of best and final model after training\n",
    "accuracy = best_nn.evaluate(xr_train, yr_train, verbose=False)\n",
    "print(\"Best Model Training Score: {:.4f}\".format(accuracy[0]))\n",
    "print(\"Best Model Training Accuracy: {:.4f}\".format(accuracy[1]))\n",
    "\n",
    "accuracy = best_nn.evaluate(xr_test, yr_test, verbose=False)\n",
    "print(\"Best Model Testing Score: {:.4f}\".format(accuracy[0]))\n",
    "print(\"Best Model Testing Accuracy: {:.4f}\".format(accuracy[1]))\n",
    "print(\"----------------------------------------\")\n",
    "\n",
    "accuracy = nn.evaluate(xr_train, yr_train, verbose=False)\n",
    "print(\"Final Model Training Score: {:.4f}\".format(accuracy[0]))\n",
    "print(\"Final Model Training Accuracy: {:.4f}\".format(accuracy[1]))\n",
    "\n",
    "accuracy = nn.evaluate(xr_test, yr_test, verbose=False)\n",
    "print(\"Final Model Testing Score: {:.4f}\".format(accuracy[0]))\n",
    "print(\"Final Model Testing Accuracy: {:.4f}\".format(accuracy[1]))"
   ]
  },
  {
   "cell_type": "code",
   "execution_count": 13,
   "id": "e0439437",
   "metadata": {},
   "outputs": [],
   "source": [
    "sm = SMOTEENN()\n",
    "X_resampled, y_resampled = sm.fit_resample(x,y)"
   ]
  },
  {
   "cell_type": "code",
   "execution_count": 14,
   "id": "e04e2aae",
   "metadata": {},
   "outputs": [],
   "source": [
    "xr_train,xr_test,yr_train,yr_test=train_test_split(X_resampled, y_resampled,test_size=0.2, random_state=42)"
   ]
  },
  {
   "cell_type": "code",
   "execution_count": 15,
   "id": "1f884fdb",
   "metadata": {},
   "outputs": [
    {
     "name": "stdout",
     "output_type": "stream",
     "text": [
      "Model: \"sequential_1\"\n",
      "_________________________________________________________________\n",
      " Layer (type)                Output Shape              Param #   \n",
      "=================================================================\n",
      " dense_3 (Dense)             (None, 128)               6144      \n",
      "                                                                 \n",
      " dropout_2 (Dropout)         (None, 128)               0         \n",
      "                                                                 \n",
      " dense_4 (Dense)             (None, 128)               16512     \n",
      "                                                                 \n",
      " dropout_3 (Dropout)         (None, 128)               0         \n",
      "                                                                 \n",
      " dense_5 (Dense)             (None, 1)                 129       \n",
      "                                                                 \n",
      "=================================================================\n",
      "Total params: 22,785\n",
      "Trainable params: 22,785\n",
      "Non-trainable params: 0\n",
      "_________________________________________________________________\n"
     ]
    }
   ],
   "source": [
    "nn = Sequential()\n",
    "Input_Shape = xr_train.shape[1]\n",
    "nn.add(layers.Dense(128, input_shape=(Input_Shape,), activation='relu'))\n",
    "nn.add(Dropout(0.2))\n",
    "nn.add(layers.Dense(128, activation='relu'))\n",
    "nn.add(Dropout(0.2))\n",
    "nn.add(layers.Dense(1, activation='sigmoid'))\n",
    "nn.compile(loss='binary_crossentropy', optimizer='adam', metrics=['accuracy'])\n",
    "nn.summary()\n",
    "\n",
    "mc = ModelCheckpoint('best_model.h5', monitor='val_accuracy', mode='max', verbose=0, save_best_only=True)\n",
    "\n",
    "fit_nn = nn.fit(xr_train, yr_train, \n",
    "                epochs=32, \n",
    "                verbose=False, \n",
    "                validation_data=(xr_test, yr_test),\n",
    "               batch_size=30, callbacks=[mc])\n",
    "\n",
    "best_nn = load_model('best_model.h5')"
   ]
  },
  {
   "cell_type": "code",
   "execution_count": 16,
   "id": "bec5171d",
   "metadata": {},
   "outputs": [
    {
     "name": "stdout",
     "output_type": "stream",
     "text": [
      "Best Model Training Score: 0.0300\n",
      "Best Model Training Accuracy: 0.9902\n",
      "Best Model Testing Score: 0.1459\n",
      "Best Model Testing Accuracy: 0.9614\n",
      "----------------------------------------\n",
      "Final Model Training Score: 0.0255\n",
      "Final Model Training Accuracy: 0.9920\n",
      "Final Model Testing Score: 0.1670\n",
      "Final Model Testing Accuracy: 0.9518\n"
     ]
    }
   ],
   "source": [
    "#Plot model evaluation of best and final model after training\n",
    "accuracy = best_nn.evaluate(xr_train, yr_train, verbose=False)\n",
    "print(\"Best Model Training Score: {:.4f}\".format(accuracy[0]))\n",
    "print(\"Best Model Training Accuracy: {:.4f}\".format(accuracy[1]))\n",
    "\n",
    "accuracy = best_nn.evaluate(xr_test, yr_test, verbose=False)\n",
    "print(\"Best Model Testing Score: {:.4f}\".format(accuracy[0]))\n",
    "print(\"Best Model Testing Accuracy: {:.4f}\".format(accuracy[1]))\n",
    "print(\"----------------------------------------\")\n",
    "\n",
    "accuracy = nn.evaluate(xr_train, yr_train, verbose=False)\n",
    "print(\"Final Model Training Score: {:.4f}\".format(accuracy[0]))\n",
    "print(\"Final Model Training Accuracy: {:.4f}\".format(accuracy[1]))\n",
    "\n",
    "accuracy = nn.evaluate(xr_test, yr_test, verbose=False)\n",
    "print(\"Final Model Testing Score: {:.4f}\".format(accuracy[0]))\n",
    "print(\"Final Model Testing Accuracy: {:.4f}\".format(accuracy[1]))"
   ]
  },
  {
   "cell_type": "code",
   "execution_count": 17,
   "id": "2177e638",
   "metadata": {},
   "outputs": [],
   "source": [
    "#Define function to show history of loss and accuracy during entire model training\n",
    "def plot_history(fit_keras):\n",
    "    acc = fit_keras.history['accuracy']\n",
    "    val_acc = fit_keras.history['val_accuracy']\n",
    "    loss = fit_keras.history['loss']\n",
    "    val_loss = fit_keras.history['val_loss']\n",
    "    x = range(1, len(acc)+1)\n",
    "    \n",
    "    plt.figure(figsize=(14, 7))\n",
    "    plt.subplot(1, 2, 1)\n",
    "    plt.plot(x, acc, 'b', label='Training Accuracy')\n",
    "    plt.plot(x, val_acc, 'r', label='Testing Accuracy')\n",
    "    plt.title('Training &Testing Accuracy')\n",
    "    plt.legend()\n",
    "    plt.subplot(1, 2, 2)\n",
    "    plt.plot(x, loss, 'b', label='Training Loss')\n",
    "    plt.plot(x, val_loss, 'r', label='Testing Loss')\n",
    "    plt.title('Training &Testing Loss')\n",
    "    plt.legend()"
   ]
  },
  {
   "cell_type": "code",
   "execution_count": 18,
   "id": "c0a3983f",
   "metadata": {},
   "outputs": [
    {
     "data": {
      "image/png": "[encoded data removed]",
      "text/plain": [
       "<Figure size 1008x504 with 2 Axes>"
      ]
     },
     "metadata": {
      "needs_background": "light"
     },
     "output_type": "display_data"
    }
   ],
   "source": [
    "plot_history(fit_nn)"
   ]
  },
  {
   "cell_type": "code",
   "execution_count": null,
   "id": "b5400ebf",
   "metadata": {},
   "outputs": [],
   "source": [
    "filename=\"model_ann.h5\"\n",
    "best_nn.save(filename)"
   ]
  },
  {
   "cell_type": "code",
   "execution_count": null,
   "id": "03dc8c37",
   "metadata": {},
   "outputs": [],
   "source": []
  }
 ],
 "metadata": {
  "kernelspec": {
   "display_name": "Python [conda env:py3-TF2.0]",
   "language": "python",
   "name": "conda-env-py3-TF2.0-py"
  },
  "language_info": {
   "codemirror_mode": {
    "name": "ipython",
    "version": 3
   },
   "file_extension": ".py",
   "mimetype": "text/x-python",
   "name": "python",
   "nbconvert_exporter": "python",
   "pygments_lexer": "ipython3",
   "version": "3.8.12"
  }
 },
 "nbformat": 4,
 "nbformat_minor": 5
}
